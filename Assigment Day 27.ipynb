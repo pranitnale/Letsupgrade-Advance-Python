{
 "cells": [
  {
   "cell_type": "code",
   "execution_count": 1,
   "metadata": {},
   "outputs": [
    {
     "name": "stdout",
     "output_type": "stream",
     "text": [
      "Using loop 0:02:05.001003\n",
      "Using iterator: 0:01:51.441792\n",
      "Using generator: 0:01:35.203273\n"
     ]
    }
   ],
   "source": [
    "import datetime\n",
    "main_list = list(range(100000000))\n",
    "list1=[]\n",
    "t1 = datetime.datetime.now()\n",
    "for each in main_list:\n",
    "  (each**2)\n",
    "  list1.append(each)\n",
    "for each in list1:\n",
    "   each\n",
    "t2 = datetime.datetime.now()\n",
    "print (\"Using loop\",t2-t1)\n",
    "\n",
    "list2=[]\n",
    "t3=datetime.datetime.now()\n",
    "for i in main_list:\n",
    "  i**2\n",
    "  list2.append(i)\n",
    "lis1 = iter(list2)\n",
    "t4=datetime.datetime.now()\n",
    "\n",
    "print (\"Using iterator:\",t4-t3)\n",
    "\n",
    "list3=[]\n",
    "t5 = datetime.datetime.now()\n",
    "def PowTwoGen(max=100000000):\n",
    "    n = 0\n",
    "    while n < max:\n",
    "        yield n ** 2\n",
    "        n += 1\n",
    "for b in PowTwoGen(max=100000000):\n",
    " b\n",
    "t6 = datetime.datetime.now()\n",
    "print(\"Using generator:\",t6-t5)"
   ]
  },
  {
   "cell_type": "code",
   "execution_count": null,
   "metadata": {},
   "outputs": [],
   "source": []
  }
 ],
 "metadata": {
  "kernelspec": {
   "display_name": "Python 3",
   "language": "python",
   "name": "python3"
  },
  "language_info": {
   "codemirror_mode": {
    "name": "ipython",
    "version": 3
   },
   "file_extension": ".py",
   "mimetype": "text/x-python",
   "name": "python",
   "nbconvert_exporter": "python",
   "pygments_lexer": "ipython3",
   "version": "3.8.5"
  }
 },
 "nbformat": 4,
 "nbformat_minor": 4
}
