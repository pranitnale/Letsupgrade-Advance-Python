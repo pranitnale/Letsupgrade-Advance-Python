{
 "cells": [
  {
   "cell_type": "code",
   "execution_count": 13,
   "metadata": {},
   "outputs": [],
   "source": [
    "import requests\n",
    "import re\n",
    "url=\"https://study-ccna.com/classes-of-ip-addresses/\"\n",
    "a=requests.get(url)\n",
    "data_ip=a.text\n",
    "ip=r\"[0-9]+\\.[0-9]+\\.[0-9]+\\.[0-9]\"\n"
   ]
  },
  {
   "cell_type": "code",
   "execution_count": 14,
   "metadata": {},
   "outputs": [
    {
     "name": "stdout",
     "output_type": "stream",
     "text": [
      "10.50.120.7\n",
      "10.47.8.4\n",
      "11.5.4.3\n",
      "172.16.55.1\n",
      "172.16.254.3\n",
      "172.55.54.7\n",
      "0.0.0.0\n",
      "127.0.0.0\n",
      "169.254.0.0\n"
     ]
    }
   ],
   "source": [
    "list_ip=re.findall(ip,data_ip)\n",
    "for each in list_ip:\n",
    "    print(each)"
   ]
  },
  {
   "cell_type": "code",
   "execution_count": null,
   "metadata": {},
   "outputs": [],
   "source": []
  }
 ],
 "metadata": {
  "kernelspec": {
   "display_name": "Python 3",
   "language": "python",
   "name": "python3"
  },
  "language_info": {
   "codemirror_mode": {
    "name": "ipython",
    "version": 3
   },
   "file_extension": ".py",
   "mimetype": "text/x-python",
   "name": "python",
   "nbconvert_exporter": "python",
   "pygments_lexer": "ipython3",
   "version": "3.8.5"
  }
 },
 "nbformat": 4,
 "nbformat_minor": 4
}
