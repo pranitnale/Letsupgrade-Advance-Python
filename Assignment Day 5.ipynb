{
 "cells": [
  {
   "cell_type": "code",
   "execution_count": 17,
   "metadata": {},
   "outputs": [
    {
     "name": "stdout",
     "output_type": "stream",
     "text": [
      "{'Hitler', 'Agent-X', 'Agent-13'}\n"
     ]
    }
   ],
   "source": [
    "'''\n",
    "\"Nick Fury\" : \"Tony Stark\", \"Maria Hill\", \"Norman Osborn\",\n",
    "\"Hulk\" : \"Tony Stark\",\"HawkEye\",\"Rogers\",\n",
    "\"Rogers\" : \"Thor\"\n",
    "\"Tony Stark\": \"Pepper Potts\",\"Nick Fury\"\n",
    "\"Agent_13\" : \"Agent-X,Nick Fury,Hitler\"\n",
    "'Thor\": \"HawkEye\",\"BlackWidow\",\n",
    "\"BlackWidow\":\"HawkEye\",\n",
    "\"Maria Hill\" : \"Hulk\",\"Rogers\",\"Nick Fury\",\n",
    "\"Agent-X\" : \"Agent_13\",\"Rogers\",\n",
    "\"Norman Osborn\": \"Tony Stark\",\"Thor\"\n",
    "'''\n",
    "\n",
    "dict1={'Nick Fury': 'Tony Stark,Maria Hill,Norman Osborn','Hulk':'Tony Stark,HawkEye,Rogers', 'Rogers':'Thor','Tony Stark':'Pepper Potts,Nick Fury','Agent-13':'Agent-X,Nick Fury,Hitler','Thor':'HawkEye,Black Widow','Black Widow':'HawkEye','Maria Hill':\"Hulk,Rogers,Nick Fury\",'Agent-X':\"Agent-13,Rogers\", 'Norman Osborn': \"Tony Stark,Thor\"}\n",
    "value=[]\n",
    "\n",
    "list1=list(dict1.keys())\n",
    "list2=list(dict1.values())\n",
    "list3=set(list1)\n",
    "def splitvalues(l):\n",
    "    return l.split(',')\n",
    "\n",
    "for each in list2:\n",
    "    value.extend(splitvalues(each))\n",
    "\n",
    "\n",
    "list1.extend(value)\n",
    "\n",
    "set1=set(list1)\n",
    "x=[]\n",
    "keys=['Nick Fury']\n",
    "\n",
    "def findhydra(k):\n",
    "    x.extend(splitvalues(dict1[k]))\n",
    "    \n",
    "        \n",
    "for k,v in dict1.items():\n",
    "    if k in keys:\n",
    "        keys.extend(splitvalues(dict1[k]))\n",
    "kl=set(keys)\n",
    "y=list3.intersection(kl)\n",
    "\n",
    "for i in y:\n",
    "    findhydra(i)\n",
    "\n",
    "z=set(x)\n",
    "print(set1-z)\n"
   ]
  }
 ],
 "metadata": {
  "kernelspec": {
   "display_name": "Python 3",
   "language": "python",
   "name": "python3"
  },
  "language_info": {
   "codemirror_mode": {
    "name": "ipython",
    "version": 3
   },
   "file_extension": ".py",
   "mimetype": "text/x-python",
   "name": "python",
   "nbconvert_exporter": "python",
   "pygments_lexer": "ipython3",
   "version": "3.8.5"
  }
 },
 "nbformat": 4,
 "nbformat_minor": 4
}
