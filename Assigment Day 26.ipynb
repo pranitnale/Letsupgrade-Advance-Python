{
 "cells": [
  {
   "cell_type": "code",
   "execution_count": 27,
   "metadata": {},
   "outputs": [
    {
     "name": "stdout",
     "output_type": "stream",
     "text": [
      "['a', 7, 'er', 21] #This is list1\n",
      "['a', 7, 'er', 21] #This is list3\n",
      "1508827781504\n",
      "1508827781952\n"
     ]
    },
    {
     "data": {
      "text/plain": [
       "False"
      ]
     },
     "execution_count": 27,
     "metadata": {},
     "output_type": "execute_result"
    }
   ],
   "source": [
    "list1=['a',7,'er',21]\n",
    "list2=['ytr',857,3,'y']\n",
    "list3=list1[:]\n",
    "print(list1,'#This is list1')\n",
    "print(list3,'#This is list3')\n",
    "print(id(list1))\n",
    "print(id(list3))\n",
    "list3 is list1"
   ]
  },
  {
   "cell_type": "code",
   "execution_count": 28,
   "metadata": {},
   "outputs": [
    {
     "name": "stdout",
     "output_type": "stream",
     "text": [
      "['a', 7, 'er', 21, 'nvidia'] #This is appended list1\n",
      "['a', 7, 'er', 21, 'nvidia'] #This is list4\n",
      "1508827781504\n",
      "1508827972416\n"
     ]
    },
    {
     "data": {
      "text/plain": [
       "False"
      ]
     },
     "execution_count": 28,
     "metadata": {},
     "output_type": "execute_result"
    }
   ],
   "source": [
    "list1.append('nvidia')\n",
    "list4=list(list1)\n",
    "print(list1,'#This is appended list1')\n",
    "print(list4,'#This is list4')\n",
    "print(id(list1))\n",
    "print(id(list4))\n",
    "list4 is list1"
   ]
  },
  {
   "cell_type": "code",
   "execution_count": 29,
   "metadata": {},
   "outputs": [
    {
     "name": "stdout",
     "output_type": "stream",
     "text": [
      "['a', 7, 'er', 21, 'nvidia', 'nvidia'] #This is appended list1\n",
      "['a', 7, 'er', 21, 'nvidia', 'nvidia'] #This is list4\n",
      "1508827781504\n",
      "1508828297472\n"
     ]
    },
    {
     "data": {
      "text/plain": [
       "False"
      ]
     },
     "execution_count": 29,
     "metadata": {},
     "output_type": "execute_result"
    }
   ],
   "source": [
    "list1.append('nvidia')\n",
    "list4=list(list1)\n",
    "print(list1,'#This is appended list1')\n",
    "print(list4,'#This is list4')\n",
    "print(id(list1))\n",
    "print(id(list4))\n",
    "list4 is list1"
   ]
  },
  {
   "cell_type": "code",
   "execution_count": 30,
   "metadata": {},
   "outputs": [
    {
     "name": "stdout",
     "output_type": "stream",
     "text": [
      "[5, 43, ['hi']]\n"
     ]
    }
   ],
   "source": [
    " #Deepcopy\n",
    "from copy import deepcopy\n",
    "list5=[5,43,['hi']]\n",
    "list6=deepcopy(list5)\n",
    "print(list6)"
   ]
  },
  {
   "cell_type": "code",
   "execution_count": 31,
   "metadata": {},
   "outputs": [
    {
     "name": "stdout",
     "output_type": "stream",
     "text": [
      "[5, 43, ['hi'], 8] #This is appended list5\n",
      "[5, 43, ['hi']] #This is list6\n"
     ]
    }
   ],
   "source": [
    "list5.append(8)\n",
    "print(list5,'#This is appended list5')\n",
    "print(list6,'#This is list6')"
   ]
  },
  {
   "cell_type": "code",
   "execution_count": 32,
   "metadata": {},
   "outputs": [
    {
     "name": "stdout",
     "output_type": "stream",
     "text": [
      "[5, 43, ['hi', 'inspiron'], 8] #This is list5\n",
      "[5, 43, ['hi']] #This is list6\n"
     ]
    }
   ],
   "source": [
    "list5[2].append('inspiron')\n",
    "print(list5,'#This is list5')\n",
    "print(list6,'#This is list6')"
   ]
  },
  {
   "cell_type": "code",
   "execution_count": null,
   "metadata": {},
   "outputs": [],
   "source": []
  },
  {
   "cell_type": "code",
   "execution_count": null,
   "metadata": {},
   "outputs": [],
   "source": []
  }
 ],
 "metadata": {
  "kernelspec": {
   "display_name": "Python 3",
   "language": "python",
   "name": "python3"
  },
  "language_info": {
   "codemirror_mode": {
    "name": "ipython",
    "version": 3
   },
   "file_extension": ".py",
   "mimetype": "text/x-python",
   "name": "python",
   "nbconvert_exporter": "python",
   "pygments_lexer": "ipython3",
   "version": "3.8.5"
  }
 },
 "nbformat": 4,
 "nbformat_minor": 4
}
